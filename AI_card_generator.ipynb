{
  "nbformat": 4,
  "nbformat_minor": 0,
  "metadata": {
    "colab": {
      "name": "scratchpad",
      "provenance": [],
      "include_colab_link": true
    },
    "kernelspec": {
      "display_name": "Python 3",
      "name": "python3"
    }
  },
  "cells": [
    {
      "cell_type": "markdown",
      "metadata": {
        "id": "view-in-github",
        "colab_type": "text"
      },
      "source": [
        "<a href=\"https://colab.research.google.com/github/parulnith/GenAI/blob/main/AI_card_generator.ipynb\" target=\"_parent\"><img src=\"https://colab.research.google.com/assets/colab-badge.svg\" alt=\"Open In Colab\"/></a>"
      ]
    },
    {
      "metadata": {
        "id": "lIYdn1woOS1n"
      },
      "cell_type": "markdown",
      "source": [
        "# 🎨 AI-Powered Greeting Card Generator\n",
        "\n",
        "## 📌 About This Notebook\n",
        "This notebook demonstrates how to **create an AI-powered greeting card generator** using **Gradio** and **Google Gemini AI**.\n",
        "\n",
        "You will be able to:\n",
        "- Generate **custom greeting cards** with a message.\n",
        "- Use **Google Gemini AI** to create **aesthetic card designs**.\n",
        "- Deploy a **Gradio web app** in **Colab/Jupyter Notebook**.\n",
        "\n",
        "\n",
        "\n",
        "\n"
      ]
    },
    {
      "cell_type": "markdown",
      "source": [
        "# Steps to Use This Notebook\n",
        "* Run all the cells in this notebook.\n",
        "* Enter your Google Gemini API Key in the designated section.\n",
        "* Click the Gradio link (which will be generated) to access your web app.\n",
        "* Enter details (like occasion, sender name, and recipient name).\n",
        "* Click \"Generate Greeting Card\" to see the AI-created card!\n",
        "* Click \"Generate a New Card\" to reset the fields.\n",
        "\n",
        "\n",
        "\n"
      ],
      "metadata": {
        "id": "lVX2vrrJkXIk"
      }
    },
    {
      "cell_type": "markdown",
      "source": [
        "\n",
        "\n",
        "## 📌 Step 1: Install Required Libraries\n",
        "Run the following cell to **install Gradio and Google Gemini AI**:"
      ],
      "metadata": {
        "id": "rF6_Nth-kidk"
      }
    },
    {
      "cell_type": "code",
      "source": [
        "# Install necessary libraries\n",
        "!pip install gradio google-genai --quiet\n"
      ],
      "metadata": {
        "id": "SFM-euGUkkMj"
      },
      "execution_count": 30,
      "outputs": []
    },
    {
      "cell_type": "markdown",
      "source": [
        "# 🔑 Step 1: Set Up Google Gemini API Key\n",
        "Google Gemini AI requires an API key to generate images. Follow these steps:\n",
        "\n",
        "* Go to Google AI Studio → https://aistudio.google.com\n",
        "* Sign in with your Google account and get an API key.\n",
        "* Use the secrets manager to securely store your API key:\n"
      ],
      "metadata": {
        "id": "a9ZbBTbTlHSr"
      }
    },
    {
      "cell_type": "code",
      "source": [
        "\n",
        "from google.colab import userdata\n",
        "\n",
        "# Set API key securely\n",
        "os.environ[\"GEMINI_API_KEY\"] = userdata.get(\"GOOGLE_API_KEY\")\n"
      ],
      "metadata": {
        "id": "81emTFX1lVWD"
      },
      "execution_count": 31,
      "outputs": []
    },
    {
      "cell_type": "markdown",
      "source": [
        "# Step 3: Import Necessary Libraries\n",
        "## Run the following cell to import required libraries:"
      ],
      "metadata": {
        "id": "5zP4PJdNmE1v"
      }
    },
    {
      "cell_type": "code",
      "source": [
        "import os\n",
        "import gradio as gr\n",
        "from google import genai\n",
        "from google.genai import types\n",
        "\n",
        "\n",
        "# Ensure 'static' directory exists to store generated images\n",
        "output_dir = \"/content/static\"\n",
        "os.makedirs(output_dir, exist_ok=True)\n",
        "\n"
      ],
      "metadata": {
        "id": "S6Y6vFFMmJKU"
      },
      "execution_count": 32,
      "outputs": []
    },
    {
      "cell_type": "markdown",
      "source": [
        "# Step 4: Define Helper Functions\n",
        "These functions handle image generation using Google Gemini AI."
      ],
      "metadata": {
        "id": "5C6RKzH3mM6u"
      }
    },
    {
      "cell_type": "code",
      "source": [
        "# Function to save binary image files\n",
        "def save_binary_file(file_name, data):\n",
        "    with open(file_name, \"wb\") as f:\n",
        "        f.write(data)\n",
        "\n",
        "# Function to generate a greeting card using Google's Gemini AI\n",
        "def generate(occasion, sender_name, recipient_name, custom_message):\n",
        "    # Initialize Google Gemini AI client\n",
        "    client = genai.Client(api_key=os.environ.get(\"GEMINI_API_KEY\"))\n",
        "\n",
        "    # Specify the AI model\n",
        "    model = \"gemini-2.0-flash-exp-image-generation\"\n",
        "\n",
        "    # Generate a default message if no custom message is provided\n",
        "    if not custom_message:\n",
        "        custom_message = f\"Happy {occasion}, {recipient_name}! With love, {sender_name}.\"\n",
        "    else:\n",
        "        custom_message = f\"Dear {recipient_name},\\n\\n{custom_message}\\n\\nFrom, {sender_name}.\"\n",
        "\n",
        "    # Request AI to generate an image based on the given message\n",
        "    contents = [\n",
        "        types.Content(\n",
        "            role=\"user\",\n",
        "            parts=[\n",
        "                types.Part.from_text(\n",
        "                    text=f\"Generate a greeting card with a soft background and clear text that says:\\n\\n{custom_message}\"\n",
        "                ),\n",
        "            ],\n",
        "        ),\n",
        "    ]\n",
        "\n",
        "    # AI response configuration\n",
        "    generate_content_config = types.GenerateContentConfig(\n",
        "        temperature=1,\n",
        "        top_p=0.95,\n",
        "        top_k=40,\n",
        "        max_output_tokens=8192,\n",
        "        response_modalities=[\"text\", \"image\"],\n",
        "    )\n",
        "\n",
        "    # Request the AI to generate content\n",
        "    response = client.models.generate_content(\n",
        "        model=model,\n",
        "        contents=contents,\n",
        "        config=generate_content_config,\n",
        "    )\n",
        "\n",
        "    # Extract the generated image and save it\n",
        "    for candidate in response.candidates:\n",
        "        for part in candidate.content.parts:\n",
        "            if part.inline_data:\n",
        "                file_name = f\"static/{occasion.lower()}_card.png\"\n",
        "                save_binary_file(file_name, part.inline_data.data)\n",
        "                return file_name  # Return the image file path\n",
        "    return None  # Return None if image generation fails\n"
      ],
      "metadata": {
        "id": "DBIZhWq4mODA"
      },
      "execution_count": 33,
      "outputs": []
    },
    {
      "cell_type": "markdown",
      "source": [
        "# Step 5: Create a Gradio Interface\n",
        "This creates a user-friendly web app to interact with the AI."
      ],
      "metadata": {
        "id": "yl2AxBOdmV-M"
      }
    },
    {
      "cell_type": "code",
      "source": [
        "# Function to interface Gradio with our AI model\n",
        "def gradio_interface(occasion, sender_name, recipient_name, custom_message):\n",
        "    image_path = generate(occasion, sender_name, recipient_name, custom_message)\n",
        "    if image_path:\n",
        "        return image_path  # Returning the image file path\n",
        "    else:\n",
        "        return None  # Return None if image generation fails\n",
        "\n",
        "# Create a Gradio app with a simple user interface\n",
        "with gr.Blocks(theme=gr.themes.Citrus()) as demo:\n",
        "    gr.Markdown(\"<center><h1>🎨 Greeting Card Generator 🎨</h1></center>\")  # App Title\n",
        "\n",
        "    with gr.Row():\n",
        "        with gr.Column():\n",
        "            # Dropdown for selecting the occasion\n",
        "            occasion = gr.Dropdown(\n",
        "                label=\"Choose an Occasion\",\n",
        "                choices=[\"Birthday\", \"Christmas\", \"New Year\", \"Anniversary\", \"Others\"],\n",
        "                value=\"Birthday\"\n",
        "            )\n",
        "            # Input fields for sender's and recipient's name\n",
        "            sender_name = gr.Textbox(label=\"Sender's Name\")\n",
        "            recipient_name = gr.Textbox(label=\"Recipient's Name\")\n",
        "            # Custom message input\n",
        "            custom_message = gr.Textbox(label=\"Custom Message (Leave blank for auto-generated)\")\n",
        "            # Buttons for generating and resetting\n",
        "            generate_button = gr.Button(\"Generate Greeting Card\")\n",
        "            reset_button = gr.Button(\"Generate a New Card\")\n",
        "\n",
        "        with gr.Column():\n",
        "            output_image = gr.Image(label=\"Generated Greeting Card\",width=600, height=550)\n",
        "\n",
        "    # When the Generate button is clicked, run the `gradio_interface` function\n",
        "    generate_button.click(\n",
        "        fn=gradio_interface,\n",
        "        inputs=[occasion, sender_name, recipient_name, custom_message],\n",
        "        outputs=output_image\n",
        "    )\n",
        "\n",
        "    # When the Reset button is clicked, clear all input fields\n",
        "    reset_button.click(\n",
        "        fn=lambda: (\"Birthday\", \"\", \"\", \"\"),\n",
        "        inputs=[],\n",
        "        outputs=[occasion, sender_name, recipient_name, custom_message]\n",
        "    )\n",
        "\n",
        "\n"
      ],
      "metadata": {
        "id": "ce-nKcF7mYR8"
      },
      "execution_count": 40,
      "outputs": []
    },
    {
      "cell_type": "markdown",
      "source": [
        "# Step 6: Run the Gradio App\n",
        "This command launches the Gradio web app and provides a public link."
      ],
      "metadata": {
        "id": "VODSIZVKmed4"
      }
    },
    {
      "cell_type": "code",
      "source": [
        "# Launch the Gradio app with sharing enabled.\n",
        "demo.launch(share=True)\n"
      ],
      "metadata": {
        "id": "qQpAoQjSmfc_",
        "outputId": "e67cb7d4-9a58-4b72-c707-7453a6fdd073",
        "colab": {
          "base_uri": "https://localhost:8080/",
          "height": 612
        }
      },
      "execution_count": 41,
      "outputs": [
        {
          "output_type": "stream",
          "name": "stdout",
          "text": [
            "Colab notebook detected. To show errors in colab notebook, set debug=True in launch()\n",
            "* Running on public URL: https://130050c8bbdc92a216.gradio.live\n",
            "\n",
            "This share link expires in 72 hours. For free permanent hosting and GPU upgrades, run `gradio deploy` from the terminal in the working directory to deploy to Hugging Face Spaces (https://huggingface.co/spaces)\n"
          ]
        },
        {
          "output_type": "display_data",
          "data": {
            "text/plain": [
              "<IPython.core.display.HTML object>"
            ],
            "text/html": [
              "<div><iframe src=\"https://130050c8bbdc92a216.gradio.live\" width=\"100%\" height=\"500\" allow=\"autoplay; camera; microphone; clipboard-read; clipboard-write;\" frameborder=\"0\" allowfullscreen></iframe></div>"
            ]
          },
          "metadata": {}
        },
        {
          "output_type": "execute_result",
          "data": {
            "text/plain": []
          },
          "metadata": {},
          "execution_count": 41
        }
      ]
    },
    {
      "cell_type": "code",
      "source": [],
      "metadata": {
        "id": "Af1OX-ZvqyQd"
      },
      "execution_count": null,
      "outputs": []
    }
  ]
}